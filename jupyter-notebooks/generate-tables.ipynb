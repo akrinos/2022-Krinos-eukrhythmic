{
 "cells": [
  {
   "cell_type": "code",
   "execution_count": 1,
   "metadata": {},
   "outputs": [],
   "source": [
    "import os\n",
    "import pandas as pd\n",
    "import numpy as np\n",
    "import plotnine\n",
    "from datetime import date\n",
    "import scipy\n",
    "import seaborn as sns\n",
    "from Bio import SeqIO\n",
    "import matplotlib.pyplot as plt\n",
    "from upsetplot import from_memberships"
   ]
  },
  {
   "cell_type": "code",
   "execution_count": 2,
   "metadata": {},
   "outputs": [],
   "source": [
    "## GLOBAL PARAMETERS ##\n",
    "base_dir = \"/vortexfs1/omics/alexander/akrinos/2021-testing-eukrhythmic/eukrhythmic_paper_trials_September21\"\n",
    "eukulele_dir_designer = \"EUKulele_designer\"\n",
    "eukulele_dir_CAG = \"EUKulele_07-CAG\"\n",
    "eukulele_dir_MAD = \"EUKulele_12-MAD\"\n",
    "salmon_dir = os.path.join(base_dir,\"08-salmon_mapping\")\n",
    "communities = list(range(1,7))\n",
    "\n",
    "output_date = \"2022-01-12\"\n",
    "eukulele_prot_annots = pd.read_csv(os.path.join(\"..\",\"data-output\", \n",
    "                                                \"eukulele_prot_annots.\" + str(output_date) + \".csv\"))"
   ]
  },
  {
   "cell_type": "code",
   "execution_count": 3,
   "metadata": {},
   "outputs": [
    {
     "ename": "NameError",
     "evalue": "name 'eggnog_prot_annots' is not defined",
     "output_type": "error",
     "traceback": [
      "\u001b[0;31m---------------------------------------------------------------\u001b[0m",
      "\u001b[0;31mNameError\u001b[0m                     Traceback (most recent call last)",
      "\u001b[0;32m<ipython-input-3-df7785798990>\u001b[0m in \u001b[0;36m<module>\u001b[0;34m\u001b[0m\n\u001b[1;32m      1\u001b[0m \u001b[0mdesigner_species\u001b[0m \u001b[0;34m=\u001b[0m \u001b[0mdict\u001b[0m\u001b[0;34m(\u001b[0m\u001b[0mzip\u001b[0m\u001b[0;34m(\u001b[0m\u001b[0meukulele_prot_annots\u001b[0m\u001b[0;34m.\u001b[0m\u001b[0mtranscript_name\u001b[0m\u001b[0;34m,\u001b[0m \u001b[0meukulele_prot_annots\u001b[0m\u001b[0;34m.\u001b[0m\u001b[0mSpecies\u001b[0m\u001b[0;34m)\u001b[0m\u001b[0;34m)\u001b[0m\u001b[0;34m\u001b[0m\u001b[0;34m\u001b[0m\u001b[0m\n\u001b[1;32m      2\u001b[0m \u001b[0mdesigner_genera\u001b[0m \u001b[0;34m=\u001b[0m \u001b[0mdict\u001b[0m\u001b[0;34m(\u001b[0m\u001b[0mzip\u001b[0m\u001b[0;34m(\u001b[0m\u001b[0meukulele_prot_annots\u001b[0m\u001b[0;34m.\u001b[0m\u001b[0mtranscript_name\u001b[0m\u001b[0;34m,\u001b[0m \u001b[0meukulele_prot_annots\u001b[0m\u001b[0;34m.\u001b[0m\u001b[0mGenus\u001b[0m\u001b[0;34m)\u001b[0m\u001b[0;34m)\u001b[0m\u001b[0;34m\u001b[0m\u001b[0;34m\u001b[0m\u001b[0m\n\u001b[0;32m----> 3\u001b[0;31m \u001b[0mdesigner_kos\u001b[0m \u001b[0;34m=\u001b[0m \u001b[0mdict\u001b[0m\u001b[0;34m(\u001b[0m\u001b[0mzip\u001b[0m\u001b[0;34m(\u001b[0m\u001b[0meggnog_prot_annots\u001b[0m\u001b[0;34m[\u001b[0m\u001b[0;34m\"query\"\u001b[0m\u001b[0;34m]\u001b[0m\u001b[0;34m,\u001b[0m\u001b[0meggnog_prot_annots\u001b[0m\u001b[0;34m.\u001b[0m\u001b[0mKEGG_ko\u001b[0m\u001b[0;34m)\u001b[0m\u001b[0;34m)\u001b[0m\u001b[0;34m\u001b[0m\u001b[0;34m\u001b[0m\u001b[0m\n\u001b[0m",
      "\u001b[0;31mNameError\u001b[0m: name 'eggnog_prot_annots' is not defined"
     ]
    }
   ],
   "source": [
    "designer_species = dict(zip(eukulele_prot_annots.transcript_name, eukulele_prot_annots.Species))\n",
    "designer_genera = dict(zip(eukulele_prot_annots.transcript_name, eukulele_prot_annots.Genus))\n",
    "designer_kos = dict(zip(eggnog_prot_annots[\"query\"],eggnog_prot_annots.KEGG_ko))"
   ]
  },
  {
   "cell_type": "code",
   "execution_count": null,
   "metadata": {},
   "outputs": [],
   "source": [
    "## GET THE FILE SIZES TO GENERATE TABLES FOR PAPER ##\n",
    "file_sizes = pd.DataFrame()\n",
    "jeukebox_dirs = [curr for curr in os.listdir(base_dir) if \"jEUKebox\" in curr]\n",
    "for jeukebox_dir in jeukebox_dirs:\n",
    "    print(jeukebox_dir,flush=True)\n",
    "    for comm_num in communities:\n",
    "        base_dir_covs = os.path.join(base_dir, jeukebox_dir, \"clustering\",\n",
    "                                    \"clustering_designer\",\"prot\")\n",
    "        coverage_dirs = os.listdir(base_dir_covs)\n",
    "        all_seq_files = pd.DataFrame()\n",
    "        for coverage in coverage_dirs:\n",
    "            cov_curr = coverage.split(\"_\")[-1]\n",
    "            seq_ids = os.listdir(os.path.join(base_dir_covs,coverage))\n",
    "            for seq_id in seq_ids:\n",
    "                seq_curr = seq_id.split(\"_\")[-1]\n",
    "                seq_file = os.path.join(base_dir_covs,coverage,\n",
    "                                                                 seq_id,\n",
    "                                                                 \"designer_assembly_\" + \\\n",
    "                                    str(comm_num) + \".pep.fasta\")\n",
    "                contig_no = len([r.id for r in SeqIO.parse(seq_file, \"fasta\")])\n",
    "                kegg_kos = []\n",
    "                [kegg_kos.extend(designer_kos[curr.id].split(\",\")) if curr.id in\\\n",
    "                    designer_kos else \"\" for curr in SeqIO.parse(seq_file, \"fasta\")]\n",
    "                kegg_kos = set(kegg_kos)\n",
    "                genera = set([designer_genera[curr.id].strip() if curr.id in designer_genera \\\n",
    "                               else \"\" for curr in SeqIO.parse(seq_file, \"fasta\")])\n",
    "                genera = list(genera)\n",
    "                genera.remove(\"\")\n",
    "                genera.remove(\"Unannotated\")\n",
    "                species = set([designer_species[curr.id].strip() if curr.id in designer_species \\\n",
    "                               else \"\" for curr in SeqIO.parse(seq_file, \"fasta\")])\n",
    "                species = list(species)\n",
    "                species.remove(\"\")\n",
    "                species.remove(\"Unannotated\")\n",
    "                file_size = os.path.getsize(seq_file)\n",
    "            \n",
    "                mmetsp_group = \"B\"\n",
    "                if \"100k\" in jeukebox_dir:\n",
    "                    mmetsp_group = \"A\"\n",
    "\n",
    "                curr_df = pd.DataFrame({\"jEUKebox\": [jeukebox_dir],\n",
    "                                        \"DesignerSize\": file_size,\n",
    "                                        \"DesignerContigs\": contig_no,\n",
    "                                        \"SeqID\": seq_id,\n",
    "                                        \"Coverage\": coverage,\n",
    "                                        \"Community\": comm_num,\n",
    "                                        \"MMETSPGroup\": mmetsp_group,\n",
    "                                        \"Species\": \"-\".join(sorted(species)),\n",
    "                                        \"NumSpecies\": len(species),\n",
    "                                        \"Genera\": \"-\".join(sorted(genera)),\n",
    "                                        \"NumGenera\": len(genera),\n",
    "                                        # \"KOs\": kegg_kos,\n",
    "                                        \"NumKOs\": len(kegg_kos)})\n",
    "                file_sizes = pd.concat([file_sizes,curr_df])"
   ]
  },
  {
   "cell_type": "code",
   "execution_count": 1,
   "metadata": {},
   "outputs": [
    {
     "ename": "NameError",
     "evalue": "name 'file_sizes' is not defined",
     "output_type": "error",
     "traceback": [
      "\u001b[0;31m---------------------------------------------------------------\u001b[0m",
      "\u001b[0;31mNameError\u001b[0m                     Traceback (most recent call last)",
      "\u001b[0;32m<ipython-input-1-a3a251371a31>\u001b[0m in \u001b[0;36m<module>\u001b[0;34m\u001b[0m\n\u001b[0;32m----> 1\u001b[0;31m \u001b[0mfile_sizes\u001b[0m\u001b[0;34m\u001b[0m\u001b[0;34m\u001b[0m\u001b[0m\n\u001b[0m",
      "\u001b[0;31mNameError\u001b[0m: name 'file_sizes' is not defined"
     ]
    }
   ],
   "source": [
    "file_sizes"
   ]
  },
  {
   "cell_type": "code",
   "execution_count": null,
   "metadata": {},
   "outputs": [],
   "source": []
  }
 ],
 "metadata": {
  "kernelspec": {
   "display_name": "scplotenv",
   "language": "python",
   "name": "scplotenv"
  }
 },
 "nbformat": 4,
 "nbformat_minor": 2
}
