{
 "cells": [
  {
   "cell_type": "code",
   "execution_count": 2,
   "metadata": {},
   "outputs": [],
   "source": [
    "import os\n",
    "import pandas as pd\n",
    "import numpy as np\n",
    "import plotnine\n",
    "from datetime import date\n",
    "import scipy\n",
    "import seaborn as sns\n",
    "from Bio import SeqIO\n",
    "import matplotlib.pyplot as plt\n",
    "from upsetplot import from_memberships"
   ]
  },
  {
   "cell_type": "code",
   "execution_count": 3,
   "metadata": {},
   "outputs": [],
   "source": [
    "## this notebook's purpose is to subset the assemblies by only contigs that are agreed upon\n",
    "## by some number of assemblers."
   ]
  },
  {
   "cell_type": "code",
   "execution_count": 4,
   "metadata": {},
   "outputs": [],
   "source": [
    "## GLOBAL PARAMETERS ##\n",
    "base_dir = \"/vortexfs1/omics/alexander/akrinos/2021-testing-eukrhythmic/eukrhythmic_paper_trials_September21\"\n",
    "eukulele_dir_designer = \"EUKulele_designer\"\n",
    "eukulele_dir_CAG = \"EUKulele_07-CAG\"\n",
    "eukulele_dir_MAD = \"EUKulele_12-MAD\"\n",
    "salmon_dir = os.path.join(base_dir,\"08-salmon_mapping\")"
   ]
  },
  {
   "cell_type": "code",
   "execution_count": 5,
   "metadata": {},
   "outputs": [
    {
     "name": "stdout",
     "output_type": "stream",
     "text": [
      "jEUKebox-Trial3-CommB passed prot clust\n",
      "jEUKebox-Trial2-CommB passed prot clust\n",
      "jEUKebox-Trial4-100k passed prot clust\n",
      "jEUKebox-Trial2-100k passed prot clust\n",
      "jEUKebox-Trial1-CommB passed prot clust\n",
      "jEUKebox-Trial3-100k passed prot clust\n",
      "jEUKebox-Trial1-100k passed prot clust\n",
      "jEUKebox-Trial4-CommB passed prot clust\n"
     ]
    }
   ],
   "source": [
    "def count_set(x):\n",
    "    x = x.dropna()\n",
    "    y = []\n",
    "    [y.extend(curr.split(\"-\")) for curr in x]\n",
    "    try:\n",
    "        len(sorted(list(set(y))))\n",
    "    except: \n",
    "        print(y,flush=True)\n",
    "    return len(sorted(list(set(y))))\n",
    "output_dir=\"two_way_contigs\" #four_way_contigs\n",
    "num_in_common = 2\n",
    "os.system(\"mkdir -p \" + output_dir)\n",
    "## READ IN EUKRHYTHMIC DATA##\n",
    "jeukebox_dirs = [curr for curr in os.listdir(base_dir) if \"jEUKebox\" in curr]\n",
    "all_four_way_contigs = pd.DataFrame()\n",
    "all_three_way_contigs = pd.DataFrame()\n",
    "all_two_way_contigs = pd.DataFrame()\n",
    "all_only_one_way = pd.DataFrame()\n",
    "\n",
    "def create_set(x):\n",
    "    x = x.dropna()\n",
    "    y = []\n",
    "    [y.extend(curr.split(\"-\")) for curr in x]\n",
    "    return \"-\".join(sorted(list(set(y))))\n",
    "\n",
    "def count_set(x):\n",
    "    x = x.dropna()\n",
    "    y = []\n",
    "    [y.extend(curr.split(\"-\")) for curr in x]\n",
    "    try:\n",
    "        len(sorted(list(set(y))))\n",
    "    except: \n",
    "        print(y,flush=True)\n",
    "    return len(sorted(list(set(y))))\n",
    "\n",
    "for jeukebox_dir in jeukebox_dirs:\n",
    "    sourmash_file = os.path.join(base_dir, jeukebox_dir, \"sourmash_MMETSP\", \"all.csv\")\n",
    "    if os.path.isfile(sourmash_file):\n",
    "        \n",
    "        if not os.path.isdir(os.path.join(base_dir, jeukebox_dir, \n",
    "                             \"sourmash_MMETSP\")):\n",
    "            continue\n",
    "        prot_clust_dir = os.path.join(base_dir, jeukebox_dir,\n",
    "                                      \"eukrhythmic_assembly\",\n",
    "                                      \"intermediate-files\",\n",
    "                                      \"03-merge\", \"07-CAG\")\n",
    "        if not os.path.isdir(prot_clust_dir):\n",
    "            continue\n",
    "            \n",
    "        print(jeukebox_dir,\"passed prot clust\",flush=True)\n",
    "        cluster_results = pd.DataFrame()\n",
    "        for sim_file in os.listdir(prot_clust_dir):\n",
    "            if \"tsv\" not in sim_file:\n",
    "                continue\n",
    "            fasta_file=sim_file.split(\".tsv\")[0] + \".fasta\"\n",
    "            ## WHAT'S INSIDE THE CAG FINAL CONTIGS??\n",
    "            cluster_result = pd.read_csv(os.path.join(prot_clust_dir,\n",
    "                                                      sim_file),sep=\"\\t\",\n",
    "                                        header=None,names=[\"Representative\",\"Member\"])\n",
    "            comm_num = int(sim_file.split(\"_merged\")[0].split(\"_\")[-1])\n",
    "            cluster_result[\"Community\"] = int(sim_file.split(\"_merged\")[0].split(\"_\")[-1])\n",
    "            cluster_result[\"Name\"] = jeukebox_dir\n",
    "            cluster_result[\"Assembler_Rep\"] = [curr.split(\"_\")[0] for curr in cluster_result.Representative]\n",
    "            cluster_result[\"Assembler_Mem\"] = [curr.split(\"_\")[0] for curr in cluster_result.Member]\n",
    "            \n",
    "            four_way_contigs = cluster_result.groupby([\"Community\",\"Name\",\"Representative\",\n",
    "                                                       \"Assembler_Rep\"]).agg({\"Assembler_Mem\": [count_set,create_set]}).reset_index()\n",
    "            four_way_contigs.columns = ['_'.join(col).strip() for col in four_way_contigs.columns.values]\n",
    "            four_way_contigs_two = four_way_contigs[four_way_contigs[\"Assembler_Mem_count_set\"] >= num_in_common]\n",
    "            four_way_contigs_three = four_way_contigs[four_way_contigs[\"Assembler_Mem_count_set\"] >= 3]\n",
    "            four_way_contigs_four = four_way_contigs[four_way_contigs[\"Assembler_Mem_count_set\"] >= 4]\n",
    "            only_one_way_contigs = four_way_contigs[four_way_contigs[\"Assembler_Mem_count_set\"] == 1]\n",
    "            all_two_way_contigs= pd.concat([all_two_way_contigs,four_way_contigs_two])\n",
    "            all_three_way_contigs= pd.concat([all_three_way_contigs,four_way_contigs_three])\n",
    "            all_four_way_contigs= pd.concat([all_four_way_contigs,four_way_contigs_four])\n",
    "            all_only_one_way = pd.concat([all_only_one_way,only_one_way_contigs])\n",
    "            four_way_contigs_list = list(four_way_contigs[\"Representative_\"])\n",
    "            from Bio import SeqIO\n",
    "\n",
    "            #with open(os.path.join(prot_clust_dir,fasta_file)) as input_handle, open(\n",
    "            #    output_dir+\"/\" + jeukebox_dir + \"_\" + str(comm_num) + \".fasta\", \"w\"\n",
    "            #) as output_handle:\n",
    "            #    sequences = [curr for curr in \\\n",
    "            #     SeqIO.parse(input_handle, \"fasta\") if curr.id in four_way_contigs_list]\n",
    "            #    count = SeqIO.write(sequences, output_handle, \"fasta\")\n",
    "            "
   ]
  },
  {
   "cell_type": "code",
   "execution_count": null,
   "metadata": {},
   "outputs": [],
   "source": []
  }
 ],
 "metadata": {
  "kernelspec": {
   "display_name": "scplotenv",
   "language": "python",
   "name": "scplotenv"
  },
  "language_info": {
   "codemirror_mode": {
    "name": "ipython",
    "version": 3
   },
   "file_extension": ".py",
   "mimetype": "text/x-python",
   "name": "python",
   "nbconvert_exporter": "python",
   "pygments_lexer": "ipython3",
   "version": "3.8.3"
  }
 },
 "nbformat": 4,
 "nbformat_minor": 2
}
